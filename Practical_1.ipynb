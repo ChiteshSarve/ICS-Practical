{
  "nbformat": 4,
  "nbformat_minor": 0,
  "metadata": {
    "colab": {
      "provenance": [],
      "authorship_tag": "ABX9TyNlKrCggJuuMqCjx+hG5tyA",
      "include_colab_link": true
    },
    "kernelspec": {
      "name": "python3",
      "display_name": "Python 3"
    },
    "language_info": {
      "name": "python"
    }
  },
  "cells": [
    {
      "cell_type": "markdown",
      "metadata": {
        "id": "view-in-github",
        "colab_type": "text"
      },
      "source": [
        "<a href=\"https://colab.research.google.com/github/ChiteshSarve/ICS-Practical/blob/main/Practical_1.ipynb\" target=\"_parent\"><img src=\"https://colab.research.google.com/assets/colab-badge.svg\" alt=\"Open In Colab\"/></a>"
      ]
    },
    {
      "cell_type": "markdown",
      "source": [
        "# Step 1: Install pycryptodome library"
      ],
      "metadata": {
        "id": "hcLKbC4WDnSq"
      }
    },
    {
      "cell_type": "code",
      "execution_count": null,
      "metadata": {
        "colab": {
          "base_uri": "https://localhost:8080/"
        },
        "id": "AYKKLZbGC1rr",
        "outputId": "bead4607-e1ec-469a-9333-4f0af820a856"
      },
      "outputs": [
        {
          "output_type": "stream",
          "name": "stdout",
          "text": [
            "Collecting pycryptodome\n",
            "  Downloading pycryptodome-3.20.0-cp35-abi3-manylinux_2_17_x86_64.manylinux2014_x86_64.whl.metadata (3.4 kB)\n",
            "Downloading pycryptodome-3.20.0-cp35-abi3-manylinux_2_17_x86_64.manylinux2014_x86_64.whl (2.1 MB)\n",
            "\u001b[2K   \u001b[90m━━━━━━━━━━━━━━━━━━━━━━━━━━━━━━━━━━━━━━━━\u001b[0m \u001b[32m2.1/2.1 MB\u001b[0m \u001b[31m13.0 MB/s\u001b[0m eta \u001b[36m0:00:00\u001b[0m\n",
            "\u001b[?25hInstalling collected packages: pycryptodome\n",
            "Successfully installed pycryptodome-3.20.0\n"
          ]
        }
      ],
      "source": [
        "\n",
        "!pip install pycryptodome\n",
        "\n"
      ]
    },
    {
      "cell_type": "markdown",
      "source": [
        "# Step 2: Import modules and write AES encryption/decryption example"
      ],
      "metadata": {
        "id": "I0LERoQJDs1c"
      }
    },
    {
      "cell_type": "code",
      "source": [
        "from Crypto.Cipher import AES\n",
        "from Crypto.Random import get_random_bytes\n",
        "from Crypto.Util.Padding import pad, unpad\n",
        "\n",
        "def aes_encrypt_decrypt():\n",
        "    key = get_random_bytes(16)  # AES key\n",
        "    cipher = AES.new(key, AES.MODE_CBC)\n",
        "\n",
        "    plaintext = b'This is a test message!'\n",
        "    padded_plaintext = pad(plaintext, AES.block_size)\n",
        "\n",
        "    ciphertext = cipher.encrypt(padded_plaintext)\n",
        "\n",
        "    decipher = AES.new(key, AES.MODE_CBC, cipher.iv)\n",
        "    decrypted_padded_plaintext = decipher.decrypt(ciphertext)\n",
        "    decrypted_plaintext = unpad(decrypted_padded_plaintext, AES.block_size)\n",
        "\n",
        "    print(f'Original: {plaintext}')\n",
        "    print(f'Ciphertext: {ciphertext}')\n",
        "    print(f'Decrypted: {decrypted_plaintext}')"
      ],
      "metadata": {
        "id": "ry2t9T7KDdvi"
      },
      "execution_count": null,
      "outputs": []
    },
    {
      "cell_type": "markdown",
      "source": [
        "# Step 3: Run the AES encryption/decryption function"
      ],
      "metadata": {
        "id": "jHeUSONYD9hw"
      }
    },
    {
      "cell_type": "code",
      "source": [
        "aes_encrypt_decrypt()"
      ],
      "metadata": {
        "id": "mpY7xTx_D_Kz",
        "outputId": "faaa0135-42f3-4490-d193-13f1211edcd0",
        "colab": {
          "base_uri": "https://localhost:8080/"
        }
      },
      "execution_count": null,
      "outputs": [
        {
          "output_type": "stream",
          "name": "stdout",
          "text": [
            "Original: b'This is a test message!'\n",
            "Ciphertext: b'Z\\x18\\xef\\xdd\\x1b\\xb3\\x1b\\xd0fW(\\x0fb\\x06h\\xeaMlwM\\xdb\\xc9\\xd5p1\\x83\\xb4\\xa9\\t$\\xed\\xd8'\n",
            "Decrypted: b'This is a test message!'\n"
          ]
        }
      ]
    }
  ]
}