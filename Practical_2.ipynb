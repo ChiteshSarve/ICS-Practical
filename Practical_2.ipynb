{
  "nbformat": 4,
  "nbformat_minor": 0,
  "metadata": {
    "colab": {
      "provenance": [],
      "authorship_tag": "ABX9TyMy9F9NLg9CT+ZIj0YLDU1a",
      "include_colab_link": true
    },
    "kernelspec": {
      "name": "python3",
      "display_name": "Python 3"
    },
    "language_info": {
      "name": "python"
    }
  },
  "cells": [
    {
      "cell_type": "markdown",
      "metadata": {
        "id": "view-in-github",
        "colab_type": "text"
      },
      "source": [
        "<a href=\"https://colab.research.google.com/github/ChiteshSarve/ICS-Practical/blob/main/Practical_2.ipynb\" target=\"_parent\"><img src=\"https://colab.research.google.com/assets/colab-badge.svg\" alt=\"Open In Colab\"/></a>"
      ]
    },
    {
      "cell_type": "markdown",
      "source": [
        "# Step 1: Install pycryptodome library"
      ],
      "metadata": {
        "id": "LpXUt1x-G5kS"
      }
    },
    {
      "cell_type": "code",
      "execution_count": 1,
      "metadata": {
        "colab": {
          "base_uri": "https://localhost:8080/"
        },
        "id": "m2oBNXgOGvMA",
        "outputId": "4587915c-6db9-4e0d-8a00-41bc23c09c3c"
      },
      "outputs": [
        {
          "output_type": "stream",
          "name": "stdout",
          "text": [
            "Collecting pycryptodome\n",
            "  Downloading pycryptodome-3.20.0-cp35-abi3-manylinux_2_17_x86_64.manylinux2014_x86_64.whl.metadata (3.4 kB)\n",
            "Downloading pycryptodome-3.20.0-cp35-abi3-manylinux_2_17_x86_64.manylinux2014_x86_64.whl (2.1 MB)\n",
            "\u001b[2K   \u001b[90m━━━━━━━━━━━━━━━━━━━━━━━━━━━━━━━━━━━━━━━━\u001b[0m \u001b[32m2.1/2.1 MB\u001b[0m \u001b[31m15.6 MB/s\u001b[0m eta \u001b[36m0:00:00\u001b[0m\n",
            "\u001b[?25hInstalling collected packages: pycryptodome\n",
            "Successfully installed pycryptodome-3.20.0\n"
          ]
        }
      ],
      "source": [
        "!pip install pycryptodome"
      ]
    },
    {
      "cell_type": "markdown",
      "source": [
        "# Step 2: Import modules and write RSA encryption/decryption example"
      ],
      "metadata": {
        "id": "_cUaCvh6HE-O"
      }
    },
    {
      "cell_type": "code",
      "source": [
        "from Crypto.PublicKey import RSA\n",
        "from Crypto.Cipher import PKCS1_OAEP\n",
        "from Crypto.Random import get_random_bytes\n",
        "\n",
        "def rsa_encrypt_decrypt():\n",
        "    # Generate RSA key pair\n",
        "    key = RSA.generate(2048)\n",
        "    public_key = key.publickey()  # Get public key for encryption\n",
        "\n",
        "    # Create RSA cipher for encryption\n",
        "    cipher = PKCS1_OAEP.new(public_key)\n",
        "\n",
        "    plaintext = b'This is a test message!'  # Message to be encrypted\n",
        "    ciphertext = cipher.encrypt(plaintext)  # Encrypt the message\n",
        "\n",
        "    # Create RSA cipher for decryption using the private key\n",
        "    decipher = PKCS1_OAEP.new(key)\n",
        "    decrypted_plaintext = decipher.decrypt(ciphertext)  # Decrypt the ciphertext\n",
        "\n",
        "    # Display the results\n",
        "    print(f'Original: {plaintext}')\n",
        "    print(f'Ciphertext: {ciphertext}')\n",
        "    print(f'Decrypted: {decrypted_plaintext}')"
      ],
      "metadata": {
        "id": "YEDTFgKnHHsS"
      },
      "execution_count": 2,
      "outputs": []
    },
    {
      "cell_type": "markdown",
      "source": [
        "# Step 3: Run the RSA encryption/decryption function"
      ],
      "metadata": {
        "id": "9eFYT_5wHKio"
      }
    },
    {
      "cell_type": "code",
      "source": [
        "rsa_encrypt_decrypt()"
      ],
      "metadata": {
        "colab": {
          "base_uri": "https://localhost:8080/"
        },
        "id": "gfXFsztmHM_W",
        "outputId": "2a7bbb92-fc6c-43c0-a14e-802002ed1495"
      },
      "execution_count": 3,
      "outputs": [
        {
          "output_type": "stream",
          "name": "stdout",
          "text": [
            "Original: b'This is a test message!'\n",
            "Ciphertext: b'\\x8c\\xac\\xdd~ <\\xd4\\xdc^\\xbb\\xcaE\\xf5\\\\\\x0c\\x03\\xd5\\xef\\xa1XK+>\\xa9\\xfd\\x93\\x80\\xf4\\x03;\\x8b\\xfb\\xbd*f\\x0c\\xe1\\x86v\\xd1zm\\'\\xf6)N\\\\#\\xe2\\x05\"\\xd8\\xcfe\\x10\\xf2\\xe6rz>\\x9d\\xf0,\\xf9\\xc8&\\xd4\\x05%\\xa8[\\x19PA\\x83?>\\xe0\\x050\\x80\\xb4\\xa3\\xf1\\xdb\\xd1\\xed\\x9c\\xc1\\x1c\\xff\\xab?Hti\\x9d\\xd7\\\\\\xdc\\xb9 \\xa6\\xb5\\x16\\xed\\x9a+\\x8b\\xde&\\xf5\\x82\\x1c\\xc2}&\\xb0\\x97?U\\xc13N\\xc7r\\xc5F+\\tJ\\x1f\\xab\\x8b\\x0b\\x98P\\xd6\\x88\\xef^!\\x12\\xac\\xa0S\\x8d\\x05Z\\x9f\\xc7\"\\xb3 f\\x02\\x02\\xd7H\\xf3|\\xca\\xa5\\xc0\\x18\\xc0\\x1b\\x14\\x17R\\xe1>\\xaeO\\x98\\xef\\xc4\\x83\\xc5\\xdb\\xf8\\xdb\\xd6\\xd3\\x0e\\xc4\\xf4\\xe5\\x0e\\xdb\\xdc\\xee\\xa73\\xe0\\xe1ld\\x06{\\xdd\\xafV>\\xd4\\x84?\\xfc\\x0295\\xccT\\xba\\xd2C\\xa1\\xf7O\\'\\xbe\\xd9D\\xc9\\xdc9\\x14\\xa40\\xc04\\x00\\rB\\xe2\\xdf(\\x13\\xd4\\xc6(\\xfd2\\xfd\\x9fF\\xa2\\x13+\\xc6m,\\xd6\\xde@C'\n",
            "Decrypted: b'This is a test message!'\n"
          ]
        }
      ]
    }
  ]
}