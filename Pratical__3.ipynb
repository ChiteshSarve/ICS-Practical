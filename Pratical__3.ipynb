{
  "nbformat": 4,
  "nbformat_minor": 0,
  "metadata": {
    "colab": {
      "provenance": [],
      "authorship_tag": "ABX9TyNz9IArR7gWDGBDDED93YZW",
      "include_colab_link": true
    },
    "kernelspec": {
      "name": "python3",
      "display_name": "Python 3"
    },
    "language_info": {
      "name": "python"
    }
  },
  "cells": [
    {
      "cell_type": "markdown",
      "metadata": {
        "id": "view-in-github",
        "colab_type": "text"
      },
      "source": [
        "<a href=\"https://colab.research.google.com/github/ChiteshSarve/ICS-Practical/blob/main/Pratical__3.ipynb\" target=\"_parent\"><img src=\"https://colab.research.google.com/assets/colab-badge.svg\" alt=\"Open In Colab\"/></a>"
      ]
    },
    {
      "cell_type": "markdown",
      "source": [
        "# Import the hashlib library and Run the function to create and display hashes"
      ],
      "metadata": {
        "id": "d9u8emUxH5Yz"
      }
    },
    {
      "cell_type": "code",
      "execution_count": 1,
      "metadata": {
        "colab": {
          "base_uri": "https://localhost:8080/"
        },
        "id": "g7DRI4eMHwdS",
        "outputId": "393be659-a0fe-4565-9c4c-827f0a00e443"
      },
      "outputs": [
        {
          "output_type": "stream",
          "name": "stdout",
          "text": [
            "MD5: 1f05978431f01451ab0b06a7eb6bdb36\n",
            "SHA-256: 44931e7d3b8fd4ff93f7388a6bd21034cad72780c19f5076b71b34445db9fb6d\n"
          ]
        }
      ],
      "source": [
        "import hashlib\n",
        "\n",
        "def create_digest():\n",
        "    # The message to be hashed\n",
        "    message = b'This is a test message!'\n",
        "\n",
        "    # Create MD5 hash and SHA-256 hash of the message\n",
        "    md5_hash = hashlib.md5(message).hexdigest()\n",
        "    sha256_hash = hashlib.sha256(message).hexdigest()\n",
        "\n",
        "    # Print the digests\n",
        "    print(f'MD5: {md5_hash}')\n",
        "    print(f'SHA-256: {sha256_hash}')\n",
        "\n",
        "create_digest()"
      ]
    }
  ]
}